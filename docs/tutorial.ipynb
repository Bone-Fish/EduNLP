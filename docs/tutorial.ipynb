{
 "cells": [
  {
   "cell_type": "markdown",
   "metadata": {
    "collapsed": false,
    "pycharm": {
     "name": "#%% md\n"
    }
   },
   "source": [
    "# EduNLP\n",
    "\n",
    "EduNLP aims at providing easily used interfaces for processing the text components in exercises and papers, including:\n",
    "\n",
    "* Syntax\n",
    "* Parsing\n",
    "* Segmentation\n",
    "* Embedding\n",
    "* Analysis\n",
    "\n",
    "Before we introduce the mentioned above functionalities,\n",
    "we will first define the data format we used for the hybrid exercise content.\n",
    "\n",
    "## Data Format\n",
    "As we know, in exercise, there are many hybrid contents rather than simple text.\n",
    "As shown in the Figure 1, a math exercise may contain equation, image\n",
    "while a chemistry exercise may contain .\n",
    "Therefore, we propose a data format for the hybrid exercise, named Unified Exercise Representation (UER).\n",
    "\n",
    "In UER, equations will be represented in $$ format. For instance, the math exercise in Figure 1 is represented as.\n",
    "\n",
    "Summarily, the syntax of UER is:\n",
    "\n",
    "## Quick Start\n",
    "\n",
    "In this part, we will introduce the following interfaces:\n",
    "\n",
    "* Syntax\n",
    "* Parsing\n",
    "* Segmentation\n",
    "* Embedding\n",
    "* Analysis\n",
    "\n",
    "### Syntax\n",
    "\n",
    "As we having presented UER, the first thing we want to do is to check whether an exercise is xxx.\n",
    "In addition, we will try to covert xxx to UER automatically if it is possible.\n",
    "\n",
    "#### Syntax Check"
   ]
  },
  {
   "cell_type": "code",
   "execution_count": null,
   "metadata": {
    "collapsed": false,
    "pycharm": {
     "name": "#%%\n"
    }
   },
   "outputs": [],
   "source": [
    "en_ex1 = \"\""
   ]
  },
  {
   "cell_type": "code",
   "execution_count": null,
   "metadata": {
    "collapsed": false,
    "pycharm": {
     "name": "#%%\n"
    }
   },
   "outputs": [],
   "source": [
    "en_ex2 = \"\""
   ]
  },
  {
   "cell_type": "code",
   "execution_count": null,
   "metadata": {
    "collapsed": false,
    "pycharm": {
     "name": "#%%\n"
    }
   },
   "outputs": [],
   "source": [
    "ch_ex1 = \"\""
   ]
  },
  {
   "cell_type": "code",
   "execution_count": null,
   "metadata": {
    "collapsed": false,
    "pycharm": {
     "name": "#%%\n"
    }
   },
   "outputs": [],
   "source": [
    "ch_ex2 = \"\""
   ]
  },
  {
   "cell_type": "markdown",
   "metadata": {
    "collapsed": false,
    "pycharm": {
     "name": "#%% md\n"
    }
   },
   "source": [
    "#### Syntax Correction\n",
    "We focus on handling these situations:\n",
    "* \\$\\text{}\\$\n",
    "* f(x) + 1 = y\n",
    "\n",
    "The following errors will not be handled:\n",
    "* `x^2+1=y` as `x 2 + 1 = y`\n",
    "\n",
    "### Parsing\n",
    "\n",
    "As we discussed, there are xxx such as equations and xxx. In order to xxx, we provide xxx to automatically xxx.\n",
    "Similarity, we xxx, named Unified Structure Representation (USR).\n",
    "\n",
    "#### Syntax of USR\n",
    "\n",
    "#### Example"
   ]
  },
  {
   "cell_type": "code",
   "execution_count": null,
   "metadata": {
    "collapsed": false,
    "pycharm": {
     "name": "#%%\n"
    }
   },
   "outputs": [],
   "source": [
    "eq1 = \"y=x^2 + 1\"\n",
    "# $ will be automatically ignored\n",
    "eq2 = \"$y = x^2 + 1$\""
   ]
  }
 ],
 "metadata": {
  "kernelspec": {
   "display_name": "Python 3.10.4 64-bit",
   "language": "python",
   "name": "python3"
  },
  "language_info": {
   "codemirror_mode": {
    "name": "ipython",
    "version": 2
   },
   "file_extension": ".py",
   "mimetype": "text/x-python",
   "name": "python",
   "nbconvert_exporter": "python",
   "pygments_lexer": "ipython2",
   "version": "3.10.4"
  },
  "vscode": {
   "interpreter": {
    "hash": "2469a70536e4d2335a2ea8907942d0699c37342a371ac185bdb5b0aa6f073890"
   }
  }
 },
 "nbformat": 4,
 "nbformat_minor": 0
}
