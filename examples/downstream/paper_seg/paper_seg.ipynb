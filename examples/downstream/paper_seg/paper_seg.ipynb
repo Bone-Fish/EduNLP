{
 "cells": [
  {
   "attachments": {},
   "cell_type": "markdown",
   "metadata": {},
   "source": [
    "# 试卷切分"
   ]
  },
  {
   "cell_type": "code",
   "execution_count": 1,
   "metadata": {},
   "outputs": [
    {
     "name": "stderr",
     "output_type": "stream",
     "text": [
      "/data/qlh/anaconda3/envs/py39/lib/python3.9/site-packages/tqdm/auto.py:22: TqdmWarning: IProgress not found. Please update jupyter and ipywidgets. See https://ipywidgets.readthedocs.io/en/stable/user_install.html\n",
      "  from .autonotebook import tqdm as notebook_tqdm\n"
     ]
    }
   ],
   "source": [
    "import os\n",
    "import torch\n",
    "from torch.utils.data import DataLoader\n",
    "from torch.utils.tensorboard import SummaryWriter\n",
    "from load_data import VecDataset\n",
    "from trainer import MyTrainer\n",
    "from model import PaperSegModel\n",
    "from utils import get_logger, ROOT_DIR"
   ]
  },
  {
   "cell_type": "code",
   "execution_count": null,
   "metadata": {},
   "outputs": [],
   "source": [
    "# 以DisneQNet为例\n",
    "class Args:\n",
    "    subject = \"math\"\n",
    "    data_path = os.path.join(ROOT_DIR, \"data\")\n",
    "    checkpoint_dir = os.path.join(ROOT_DIR, \"checkpoint\")\n",
    "    \n",
    "    pretrained_model_type=\"disenqnet\"\n",
    "    pretrained_model_dir=\"/path/to/disenqnet/checkpoint\"\n",
    "\n",
    "    device=\"cpu\"\n",
    "\n",
    "args = Args()"
   ]
  },
  {
   "cell_type": "code",
   "execution_count": null,
   "metadata": {},
   "outputs": [],
   "source": [
    "args.train_data_path = f\"{args.data_path}/train/{args.subject}/paper_txt_tagged\"\n",
    "args.valid_data_path = f\"{args.data_path}/valid/{args.subject}/paper_txt_tagged\"\n",
    "args.test_data_path = f\"{args.data_path}/test/{args.subject}/paper_txt_tagged\""
   ]
  },
  {
   "cell_type": "code",
   "execution_count": null,
   "metadata": {},
   "outputs": [],
   "source": [
    "# logger\n",
    "logfile = f'{args.checkpoint_dir}/train.log'\n",
    "logger = get_logger(logfile)\n",
    "# tensorboard\n",
    "tensorboard_dir = f'{args.checkpoint_dir}/tensorboard'\n",
    "os.makedirs(tensorboard_dir, exist_ok=True)\n",
    "tensorboard_writer = SummaryWriter(tensorboard_dir)"
   ]
  },
  {
   "attachments": {},
   "cell_type": "markdown",
   "metadata": {},
   "source": [
    "## 加载向量数据集"
   ]
  },
  {
   "cell_type": "code",
   "execution_count": null,
   "metadata": {},
   "outputs": [],
   "source": [
    "train_set = VecDataset(\n",
    "                        text_data_dir=args.train_data_path,\n",
    "                        emb_data_path=args.train_data_path.replace(\"paper_txt_tagged\", \"emb.train.pt\",\n",
    "                        mode=\"train\",\n",
    "                        pretrained_model_type=args.pretrained_model_type,\n",
    "                        pretrained_model_dir=args.pretrained_model_dir,\n",
    "                        device=args.device,\n",
    "                        )\n",
    "valid_set = VecDataset(\n",
    "                        text_data_dir=args.valid_data_path,\n",
    "                        emb_data_path=args.valid_data_path.replace(\"paper_txt_tagged\", \"emb.train.pt\",\n",
    "                        mode=\"valid\",\n",
    "                        pretrained_model_type=args.pretrained_model_type,\n",
    "                        pretrained_model_dir=args.pretrained_model_dir,\n",
    "                        paper_i2v=train_set.paper_i2v,\n",
    "                        device=args.device,\n",
    "                        )\n",
    "test_set = VecDataset(\n",
    "                        text_data_dir=args.test_data_path,\n",
    "                        emb_data_path=args.test_data_path.replace(\"paper_txt_tagged\", f\"paper_emb_{args.pretrained_model_type}{i2v_postfix}\") + \".test.pt\",\n",
    "                        mode=\"test\",\n",
    "                        pretrained_model_type=args.pretrained_model_type,\n",
    "                        pretrained_model_dir=args.pretrained_model_dir,\n",
    "                        paper_i2v=train_set.paper_i2v,\n",
    "                        device=args.device,\n",
    "                        )\n",
    "train_loader = DataLoader(train_set, batch_size=4, shuffle=True, num_workers=0, collate_fn=train_set.collcate_fn)\n",
    "valid_loader = DataLoader(valid_set, batch_size=1, shuffle=False, num_workers=0, collate_fn=valid_set.collcate_fn)\n",
    "test_loader = DataLoader(test_set, batch_size=1, shuffle=False, num_workers=0, collate_fn=test_set.collcate_fn)"
   ]
  },
  {
   "attachments": {},
   "cell_type": "markdown",
   "metadata": {},
   "source": [
    "## 加载模型"
   ]
  },
  {
   "cell_type": "code",
   "execution_count": null,
   "metadata": {},
   "outputs": [],
   "source": [
    "model = PaperSegModel(\n",
    "        embed_dim=train_set.embed_dim,\n",
    "        hidden_dim=256,\n",
    "        num_layers=2\n",
    "        )\n",
    "model = model.to(args.device)\n",
    "logger.info('prepare model have done!')\n",
    "# model.save_pretrained(args.checkpoint_dir)"
   ]
  },
  {
   "attachments": {},
   "cell_type": "markdown",
   "metadata": {},
   "source": [
    "## 训练和评估"
   ]
  },
  {
   "cell_type": "code",
   "execution_count": null,
   "metadata": {},
   "outputs": [],
   "source": [
    "optimizer = torch.optim.Adam(model.parameters(), lr=args.lr)\n",
    "trainer = MyTrainer(\n",
    "    args=args,\n",
    "    model=model,\n",
    "    optimizer=optimizer,\n",
    "    logger=logger,\n",
    "    tensorboard_writer=tensorboard_writer,\n",
    ")\n",
    "trainer.train(train_loader, valid_loader)\n",
    "logger.info(\"Finish training ... \")"
   ]
  },
  {
   "cell_type": "code",
   "execution_count": null,
   "metadata": {},
   "outputs": [],
   "source": [
    "model = PaperSegModel.from_pretrained(args.checkpoint_dir).to(args.device)\n",
    "trainer = MyTrainer(\n",
    "    args=args,\n",
    "    model=model,\n",
    "    logger=logger,\n",
    ")\n",
    "trainer.valid(test_loader)\n",
    "logger.info(\"Finish testing ... \")"
   ]
  }
 ],
 "metadata": {
  "kernelspec": {
   "display_name": "py39",
   "language": "python",
   "name": "python3"
  },
  "language_info": {
   "codemirror_mode": {
    "name": "ipython",
    "version": 3
   },
   "file_extension": ".py",
   "mimetype": "text/x-python",
   "name": "python",
   "nbconvert_exporter": "python",
   "pygments_lexer": "ipython3",
   "version": "3.9.13"
  },
  "orig_nbformat": 4
 },
 "nbformat": 4,
 "nbformat_minor": 2
}
