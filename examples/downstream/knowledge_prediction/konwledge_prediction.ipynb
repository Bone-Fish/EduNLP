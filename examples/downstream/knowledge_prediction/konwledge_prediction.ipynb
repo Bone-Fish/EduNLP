{
 "cells": [
  {
   "attachments": {},
   "cell_type": "markdown",
   "metadata": {},
   "source": [
    "# 层级知识点预测"
   ]
  },
  {
   "cell_type": "code",
   "execution_count": null,
   "metadata": {},
   "outputs": [],
   "source": [
    "import os\n",
    "import yaml\n",
    "import tqdm\n",
    "import torch\n",
    "import numpy as np\n",
    "from EduNLP.Pretrain import BertTokenizer\n",
    "from EduNLP.ModelZoo.bert import BertForKnowledgePrediction\n",
    "from EduNLP.Pretrain import finetune_bert_for_knowledge_prediction\n",
    "from EduNLP.ModelZoo import load_items\n",
    "\n",
    "from utils import compute_perfs_per_layer, get_onehot_label_topk, metric, compute_perfs"
   ]
  },
  {
   "cell_type": "code",
   "execution_count": null,
   "metadata": {},
   "outputs": [],
   "source": [
    "train_data = load_items(\"/path/to/data/train.jsonl\")\n",
    "test_data = load_items(\"/path/to/data/test.jsonl\")\n",
    "\n",
    "pretrained_model_dir =\"/path/to/bert/checkpoint\"\n",
    "checkpoint_dir = \"/path/to/knowledge_model/checkpoint\""
   ]
  },
  {
   "attachments": {},
   "cell_type": "markdown",
   "metadata": {},
   "source": [
    "## 训练"
   ]
  },
  {
   "cell_type": "code",
   "execution_count": null,
   "metadata": {},
   "outputs": [],
   "source": [
    "# 以bert为例\n",
    "data_params = {\n",
    "    \"stem_key\": \"ques_content\",\n",
    "    \"label_key\": \"know_list\"\n",
    "}\n",
    "train_params = {\n",
    "    \"num_train_epochs\": 1,\n",
    "    \"per_device_train_batch_size\": 2,\n",
    "    \"per_device_eval_batch_size\": 2,\n",
    "    \"no_cuda\": True,\n",
    "}\n",
    "model_params = {\n",
    "    \"num_classes_list\": [10, 27, 963],\n",
    "    \"num_total_classes\": 1000,\n",
    "}\n",
    " \n",
    "\n",
    "\"\"\"\n",
    "数据格式：\n",
    "{\n",
    "    'ques_content': 'question...',\n",
    "    'know_list': [lay_1_id, lay_2_id, lay_3_id]\n",
    "}\n",
    "\"\"\"\n",
    "\n",
    "# train without eval_items\n",
    "finetune_bert_for_knowledge_prediction(\n",
    "    train_data,\n",
    "    checkpoint_dir,\n",
    "    pretrained_model=pretrained_model_dir,\n",
    "    train_params=train_params,\n",
    "    data_params=data_params,\n",
    "    model_params=model_params\n",
    ")"
   ]
  },
  {
   "attachments": {},
   "cell_type": "markdown",
   "metadata": {},
   "source": [
    "## 加载模型和评估数据"
   ]
  },
  {
   "cell_type": "code",
   "execution_count": null,
   "metadata": {},
   "outputs": [],
   "source": [
    "# 针对多标签任务处理标签\n",
    "class EvalDataset(torch.utils.data.Dataset):\n",
    "    def __init__(self, data) -> None:\n",
    "        self.data = data\n",
    "        self.num_classes = model_params['num_classes_list']\n",
    "        self.tokenizer = BertTokenizer.from_pretrained(pretrained_model_dir)\n",
    "\n",
    "    def __getitem__(self, idx):\n",
    "        text, labels = self.data[idx][\"ques_content\"], self.data[idx][\"know_list\"]\n",
    "        encodings = self.tokenizer(text, padding='max_length', truncation=True, return_tensors='pt')\n",
    "        for k, v in encodings.items():\n",
    "            encodings[k] = torch.squeeze(v, dim=0)\n",
    "        one_hot_labels = [1. if idx in labels else 0. for idx in range(self.num_classes)]\n",
    "        return encodings, torch.FloatTensor(one_hot_labels)\n",
    "\n",
    "    def __len__(self):\n",
    "        return len(self.data)\n",
    "\n",
    "test_dataset  = EvalDataset(test_data)\n",
    "eval_dataloader = EvalDataset(\n",
    "    test_data,\n",
    "    batch_size=1,\n",
    "    shuffle=False,\n",
    "    num_workers=4,\n",
    ")\n",
    "\n",
    "model = BertForKnowledgePrediction.from_pretrained(checkpoint_dir)"
   ]
  },
  {
   "attachments": {},
   "cell_type": "markdown",
   "metadata": {},
   "source": [
    "## 评估"
   ]
  },
  {
   "cell_type": "code",
   "execution_count": null,
   "metadata": {},
   "outputs": [],
   "source": [
    "device = \"cuda\" if not train_params[\"no_cuda\"] else \"cpu\"\n",
    "\n",
    "# 层级知识标签-配置信息\n",
    "levels = len(model_params[\"num_classes_list\"])\n",
    "classes_offset_list = [0, 10, 37]\n",
    "classes_border_list = [[0, 9], [10, 36], [37, 1000]] # 层级id边界\n",
    "hierarchy_dict = {} # child_know_id_to_parent_know_id\n",
    "\n",
    "# 评估top_k结果\n",
    "top_k_list=[10, 20, 30]\n",
    "\n",
    "model.eval()\n",
    "perfs_per_layer = [np.array([0 for _ in range(4)], dtype=np.int32) for _ in range(levels)]\n",
    "total_perfs = np.array([0 for _ in range(4)], dtype=np.int32)\n",
    "\n",
    "k_total_perfs_list = [ np.array([0 for _ in range(4)], dtype=np.int32)for _ in range(len(top_k_list)) ]\n",
    "for i, eval_batch in tqdm.tqdm(enumerate(eval_dataloader)):\n",
    "    input_data, eval_batch_labels = eval_batch\n",
    "    input_data = input_data.to(device)\n",
    "    _, output_logits = model(**input_data)\n",
    "\n",
    "    local_perfs_per_layer, local_perfs = compute_perfs_per_layer(\n",
    "        output_logits.cpu().detach().numpy(),\n",
    "        eval_batch_labels.cpu().detach().numpy(),\n",
    "        hierarchy_dict,\n",
    "        classes_border_list,\n",
    "        keep_consistency=True\n",
    "    )\n",
    "    perfs_per_layer = [perfs_per_layer[idx] + local_perfs_per_layer[idx] for idx in range(levels)]\n",
    "    total_perfs += local_perfs\n",
    "    \n",
    "    # for recall@k\n",
    "    for i_k, k in enumerate(top_k_list):\n",
    "        pred_topk = get_onehot_label_topk(\n",
    "            classes_border_list, classes_offset_list, scores_list=output_logits.cpu().detach().numpy(), top_num=k)\n",
    "        flat_pred_topk = np.array([x[3] for x in pred_topk])\n",
    "        k_total_perfs = compute_perfs(flat_pred_topk, eval_batch_labels.cpu().detach().numpy().tolist())\n",
    "        k_total_perfs_list[i_k] += k_total_perfs\n",
    "\n",
    "# metric for overall\n",
    "micro_precision, micro_recall, micro_f1, total_acc = metric(*total_perfs)\n",
    "print(f\"Eval Results: Micro-Precision: {micro_precision:.4f}, \"\n",
    "                + f\"Micro-Recall: {micro_recall:.4f}, Micro-F1: {micro_f1:.4f}, Acc: {total_acc:.4f}\")\n",
    "\n",
    "# metrics for per top_k\n",
    "for i_k, k_total_perfs in enumerate(k_total_perfs_list):\n",
    "    k = top_k_list[i_k]\n",
    "    precision, recall, f1, acc = metric(*k_total_perfs)\n",
    "    print(f\"TOPK={k}: Precision@{k}: {precision:.4f}, Recall@{k}: {recall:.4f}, F1@{k}: {f1:.4f}, Acc@{k}: {acc:.4f}\")\n",
    "\n",
    "# metrics for per layer\n",
    "for layer_idx, perfs in enumerate(perfs_per_layer):\n",
    "    precision, recall, f1, acc = metric(*perfs)\n",
    "    print(f\"Layer {layer_idx + 1}: Precision: {precision:.4f}, Recall: {recall:.4f}, F1: {f1:.4f}, Acc: {acc:.4f}\")"
   ]
  }
 ],
 "metadata": {
  "language_info": {
   "name": "python"
  },
  "orig_nbformat": 4
 },
 "nbformat": 4,
 "nbformat_minor": 2
}
