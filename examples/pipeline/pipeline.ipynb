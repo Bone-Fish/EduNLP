{
 "cells": [
  {
   "cell_type": "markdown",
   "metadata": {
    "collapsed": false
   },
   "source": [
    "# 流水线\n",
    "\n",
    "流水线由文档预处理和任务推理两部分组成，使用<u>pipeline()</u>轻松构建流水线，本示例将展示：\n",
    "* 仅对文档进行预处理\n",
    "* 直接对文档应用任务推理\n",
    "* 先对文档进行预处理，之后再应用任务推理"
   ]
  },
  {
   "cell_type": "code",
   "execution_count": 1,
   "metadata": {},
   "outputs": [],
   "source": [
    "from EduNLP.Pipeline import pipeline"
   ]
  },
  {
   "cell_type": "markdown",
   "metadata": {},
   "source": [
    "## 仅进行预处理"
   ]
  },
  {
   "cell_type": "markdown",
   "metadata": {},
   "source": [
    "预处理流水线提供了一系列针对SIF处理和成分分解的组件，并且允许自定义组件。这些组件可以在流水线中按顺序调用。"
   ]
  },
  {
   "cell_type": "code",
   "execution_count": 2,
   "metadata": {},
   "outputs": [],
   "source": [
    "item = \"如图所示，则三角形ABC的面积是_。\""
   ]
  },
  {
   "cell_type": "markdown",
   "metadata": {},
   "source": [
    "我们提供了一些常用的管道，您可以在初始化流水线时通过名称来构建。\n",
    "（注意，初始化时构建的管道实例无法为其指定参数）"
   ]
  },
  {
   "cell_type": "code",
   "execution_count": 3,
   "metadata": {},
   "outputs": [],
   "source": [
    "processer = pipeline(preprocess=['is_sif', 'to_sif', 'is_sif', 'seg_describe'])"
   ]
  },
  {
   "cell_type": "markdown",
   "metadata": {},
   "source": [
    "也可以通过插入的方式修改流水线，以此种方式可以为管道传入参数，例如："
   ]
  },
  {
   "cell_type": "code",
   "execution_count": 4,
   "metadata": {},
   "outputs": [],
   "source": [
    "processer.add_pipe(name='seg', symbol='fm', before='seg_describe')"
   ]
  },
  {
   "cell_type": "markdown",
   "metadata": {},
   "source": [
    "这在流水线中`seg_describe`组件之前插入了一个`seg`管道，并且指定了参数为`symbol='fm'`"
   ]
  },
  {
   "cell_type": "markdown",
   "metadata": {},
   "source": [
    "查看流水线中所有组件内容："
   ]
  },
  {
   "cell_type": "code",
   "execution_count": 6,
   "metadata": {},
   "outputs": [
    {
     "name": "stdout",
     "output_type": "stream",
     "text": [
      "['is_sif', 'to_sif', 'is_sif', 'seg', 'seg_describe']\n"
     ]
    }
   ],
   "source": [
    "print(processer.component_names)"
   ]
  },
  {
   "cell_type": "markdown",
   "metadata": {},
   "source": [
    "应用流水线对文档进行处理："
   ]
  },
  {
   "cell_type": "code",
   "execution_count": 7,
   "metadata": {},
   "outputs": [
    {
     "name": "stdout",
     "output_type": "stream",
     "text": [
      "False\n",
      "True\n",
      "{'t': 3, 'f': 1, 'g': 0, 'm': 1}\n"
     ]
    },
    {
     "data": {
      "text/plain": [
       "<bound method Kernel.raw_input of <ipykernel.ipkernel.IPythonKernel object at 0x7ff65898ab80>>"
      ]
     },
     "execution_count": 7,
     "metadata": {},
     "output_type": "execute_result"
    }
   ],
   "source": [
    "processer(item)"
   ]
  },
  {
   "cell_type": "markdown",
   "metadata": {},
   "source": [
    "## 直接应用任务推理"
   ]
  },
  {
   "cell_type": "markdown",
   "metadata": {},
   "source": [
    "通过指定应用任务名称，使用默认模型或提供自定义模型来进行任务推理。"
   ]
  },
  {
   "cell_type": "code",
   "execution_count": null,
   "metadata": {},
   "outputs": [],
   "source": [
    "processer = pipeline(task=\"property-prediction\")\n",
    "processer(item)"
   ]
  },
  {
   "cell_type": "markdown",
   "metadata": {},
   "source": [
    "## 预处理与任务推理结合"
   ]
  },
  {
   "cell_type": "markdown",
   "metadata": {},
   "source": [
    "基本是上面两部分的顺序组合，例如："
   ]
  },
  {
   "cell_type": "code",
   "execution_count": null,
   "metadata": {},
   "outputs": [],
   "source": [
    "processer = pipeline(task=\"property-prediction\", preprocess=['is_sif', 'to_sif', 'is_sif', 'seg_describe'])\n",
    "processer(item)"
   ]
  }
 ],
 "metadata": {
  "kernelspec": {
   "display_name": "Python 3.8.13 ('nlp')",
   "language": "python",
   "name": "python3"
  },
  "language_info": {
   "codemirror_mode": {
    "name": "ipython",
    "version": 3
   },
   "file_extension": ".py",
   "mimetype": "text/x-python",
   "name": "python",
   "nbconvert_exporter": "python",
   "pygments_lexer": "ipython3",
   "version": "3.8.13"
  },
  "vscode": {
   "interpreter": {
    "hash": "cc3e3b0a667322a868bdd200d76d82ed50310f7037715f6f0bc4c373c1c03ce5"
   }
  }
 },
 "nbformat": 4,
 "nbformat_minor": 0
}
